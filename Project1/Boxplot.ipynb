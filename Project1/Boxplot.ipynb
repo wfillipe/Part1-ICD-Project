{
 "cells": [
  {
   "cell_type": "code",
   "execution_count": null,
   "id": "9c636708",
   "metadata": {},
   "outputs": [],
   "source": [
    "import pandas as pd\n",
    "import matplotlib.pyplot as plt \n",
    "\n",
    "dados_btc = pd.read_csv(\n",
    "                    \"btc.csv\",\n",
    "                    sep=',',\n",
    "                    index_col='Date',\n",
    "                    usecols=['Date','High','Low','Close'])\n",
    "    \n",
    "print(dados_btc)"
   ]
  },
  {
   "cell_type": "markdown",
   "id": "67908299",
   "metadata": {},
   "source": [
    "# Na próxima célula faço uma nova organização dos dados para que fique mais objetivo com a função deste código: fazer boxplots! \n",
    "\n"
   ]
  },
  {
   "cell_type": "code",
   "execution_count": 16,
   "id": "cf42ba93",
   "metadata": {},
   "outputs": [
    {
     "data": {
      "text/html": [
       "<div>\n",
       "<style scoped>\n",
       "    .dataframe tbody tr th:only-of-type {\n",
       "        vertical-align: middle;\n",
       "    }\n",
       "\n",
       "    .dataframe tbody tr th {\n",
       "        vertical-align: top;\n",
       "    }\n",
       "\n",
       "    .dataframe thead th {\n",
       "        text-align: right;\n",
       "    }\n",
       "</style>\n",
       "<table border=\"1\" class=\"dataframe\">\n",
       "  <thead>\n",
       "    <tr style=\"text-align: right;\">\n",
       "      <th></th>\n",
       "      <th>High</th>\n",
       "      <th>Low</th>\n",
       "      <th>Close</th>\n",
       "    </tr>\n",
       "    <tr>\n",
       "      <th>Date</th>\n",
       "      <th></th>\n",
       "      <th></th>\n",
       "      <th></th>\n",
       "    </tr>\n",
       "  </thead>\n",
       "  <tbody>\n",
       "    <tr>\n",
       "      <th>2017-12-17 23:59:59</th>\n",
       "      <td>20089.000000</td>\n",
       "      <td>18974.099609</td>\n",
       "      <td>19140.800781</td>\n",
       "    </tr>\n",
       "    <tr>\n",
       "      <th>2020-12-03 23:59:59</th>\n",
       "      <td>19566.191884</td>\n",
       "      <td>18925.784434</td>\n",
       "      <td>19445.398480</td>\n",
       "    </tr>\n",
       "    <tr>\n",
       "      <th>2020-12-06 23:59:59</th>\n",
       "      <td>19390.499895</td>\n",
       "      <td>18897.894072</td>\n",
       "      <td>19345.120959</td>\n",
       "    </tr>\n",
       "    <tr>\n",
       "      <th>2020-12-07 23:59:59</th>\n",
       "      <td>19411.827676</td>\n",
       "      <td>18931.142919</td>\n",
       "      <td>19191.631287</td>\n",
       "    </tr>\n",
       "    <tr>\n",
       "      <th>2020-12-14 23:59:59</th>\n",
       "      <td>19305.100443</td>\n",
       "      <td>19012.709408</td>\n",
       "      <td>19246.644341</td>\n",
       "    </tr>\n",
       "    <tr>\n",
       "      <th>...</th>\n",
       "      <td>...</td>\n",
       "      <td>...</td>\n",
       "      <td>...</td>\n",
       "    </tr>\n",
       "    <tr>\n",
       "      <th>2021-07-02 23:59:59</th>\n",
       "      <td>33939.588699</td>\n",
       "      <td>32770.680780</td>\n",
       "      <td>33897.048590</td>\n",
       "    </tr>\n",
       "    <tr>\n",
       "      <th>2021-07-03 23:59:59</th>\n",
       "      <td>34909.259899</td>\n",
       "      <td>33402.696536</td>\n",
       "      <td>34668.548402</td>\n",
       "    </tr>\n",
       "    <tr>\n",
       "      <th>2021-07-04 23:59:59</th>\n",
       "      <td>35937.567147</td>\n",
       "      <td>34396.477458</td>\n",
       "      <td>35287.779766</td>\n",
       "    </tr>\n",
       "    <tr>\n",
       "      <th>2021-07-05 23:59:59</th>\n",
       "      <td>35284.344430</td>\n",
       "      <td>33213.661034</td>\n",
       "      <td>33746.002456</td>\n",
       "    </tr>\n",
       "    <tr>\n",
       "      <th>2021-07-06 23:59:59</th>\n",
       "      <td>35038.536363</td>\n",
       "      <td>33599.916169</td>\n",
       "      <td>34235.193451</td>\n",
       "    </tr>\n",
       "  </tbody>\n",
       "</table>\n",
       "<p>209 rows × 3 columns</p>\n",
       "</div>"
      ],
      "text/plain": [
       "                             High           Low         Close\n",
       "Date                                                         \n",
       "2017-12-17 23:59:59  20089.000000  18974.099609  19140.800781\n",
       "2020-12-03 23:59:59  19566.191884  18925.784434  19445.398480\n",
       "2020-12-06 23:59:59  19390.499895  18897.894072  19345.120959\n",
       "2020-12-07 23:59:59  19411.827676  18931.142919  19191.631287\n",
       "2020-12-14 23:59:59  19305.100443  19012.709408  19246.644341\n",
       "...                           ...           ...           ...\n",
       "2021-07-02 23:59:59  33939.588699  32770.680780  33897.048590\n",
       "2021-07-03 23:59:59  34909.259899  33402.696536  34668.548402\n",
       "2021-07-04 23:59:59  35937.567147  34396.477458  35287.779766\n",
       "2021-07-05 23:59:59  35284.344430  33213.661034  33746.002456\n",
       "2021-07-06 23:59:59  35038.536363  33599.916169  34235.193451\n",
       "\n",
       "[209 rows x 3 columns]"
      ]
     },
     "execution_count": 16,
     "metadata": {},
     "output_type": "execute_result"
    }
   ],
   "source": [
    "dados_btc_fix = dados_btc[dados_btc[\"Low\"] <= 18800.000000].index\n",
    "dados_novo = dados_btc.drop(dados_btc_fix) \n",
    "dados_novo"
   ]
  },
  {
   "cell_type": "code",
   "execution_count": 28,
   "id": "fd56a3d3",
   "metadata": {},
   "outputs": [
    {
     "data": {
      "image/png": "[encoded data removed]",
      "text/plain": [
       "<Figure size 432x288 with 1 Axes>"
      ]
     },
     "metadata": {
      "needs_background": "light"
     },
     "output_type": "display_data"
    }
   ],
   "source": [
    "dados_novo.boxplot(column = 'Low')\n",
    "plt.show()"
   ]
  },
  {
   "cell_type": "code",
   "execution_count": 29,
   "id": "b039168e",
   "metadata": {},
   "outputs": [
    {
     "data": {
      "image/png": "[encoded data removed]",
      "text/plain": [
       "<Figure size 432x288 with 1 Axes>"
      ]
     },
     "metadata": {
      "needs_background": "light"
     },
     "output_type": "display_data"
    }
   ],
   "source": [
    "dados_novo.boxplot(column = 'High')\n",
    "plt.show()"
   ]
  },
  {
   "cell_type": "markdown",
   "id": "6c52e62a",
   "metadata": {},
   "source": [
    "# Como é possível observar, em ambos os bloxplots está marcado com a linha verde a mediana, enquanto os valores no eixo y representam o valor da moeda entre o período de 2017-2021 "
   ]
  }
 ],
 "metadata": {
  "kernelspec": {
   "display_name": "Python 3 (ipykernel)",
   "language": "python",
   "name": "python3"
  },
  "language_info": {
   "codemirror_mode": {
    "name": "ipython",
    "version": 3
   },
   "file_extension": ".py",
   "mimetype": "text/x-python",
   "name": "python",
   "nbconvert_exporter": "python",
   "pygments_lexer": "ipython3",
   "version": "3.9.7"
  }
 },
 "nbformat": 4,
 "nbformat_minor": 5
}
